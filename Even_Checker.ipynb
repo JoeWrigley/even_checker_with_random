{
 "cells": [
  {
   "cell_type": "code",
   "execution_count": 3,
   "id": "96816efd",
   "metadata": {},
   "outputs": [],
   "source": [
    "import random\n"
   ]
  },
  {
   "cell_type": "code",
   "execution_count": 4,
   "id": "6d510462",
   "metadata": {},
   "outputs": [],
   "source": [
    "def lesser_of_two_evens():\n",
    "    my_list = []\n",
    "    for i in range(0,2):\n",
    "        num = random.randint(1,100)\n",
    "        my_list.append(num)\n",
    "    print(f'This is your list of numbers {my_list}')\n",
    "\n",
    "    for num in my_list:\n",
    "        if my_list[0]%2==0 and my_list[1]%2==0:\n",
    "            #print('both nums are even')\n",
    "            #return the smaller even number\n",
    "            if my_list[0] > my_list[1]:\n",
    "                print(my_list[1])\n",
    "            else:\n",
    "                print(my_list[0])\n",
    "        elif my_list[0] % 2 == 1 or my_list[1] % 2 == 1:\n",
    "            #print('one of these is odd')\n",
    "            #return the bigger odd number\n",
    "            if my_list[0] < my_list[1]:\n",
    "                print(my_list[1])\n",
    "            else:\n",
    "                print(my_list[0])\n",
    "    \n",
    "\n",
    "\n",
    "    \n",
    "    \n",
    "        \n"
   ]
  },
  {
   "cell_type": "code",
   "execution_count": 5,
   "id": "28e8cc7e",
   "metadata": {},
   "outputs": [
    {
     "name": "stdout",
     "output_type": "stream",
     "text": [
      "This is your list of numbers [53, 83]\n",
      "83\n",
      "83\n"
     ]
    }
   ],
   "source": [
    "lesser_of_two_evens()"
   ]
  },
  {
   "cell_type": "code",
   "execution_count": null,
   "id": "f63e2cd2",
   "metadata": {},
   "outputs": [],
   "source": []
  }
 ],
 "metadata": {
  "kernelspec": {
   "display_name": "Python 3 (ipykernel)",
   "language": "python",
   "name": "python3"
  },
  "language_info": {
   "codemirror_mode": {
    "name": "ipython",
    "version": 3
   },
   "file_extension": ".py",
   "mimetype": "text/x-python",
   "name": "python",
   "nbconvert_exporter": "python",
   "pygments_lexer": "ipython3",
   "version": "3.9.7"
  }
 },
 "nbformat": 4,
 "nbformat_minor": 5
}
